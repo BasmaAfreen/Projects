{
  "cells": [
    {
      "cell_type": "markdown",
      "metadata": {
        "id": "view-in-github",
        "colab_type": "text"
      },
      "source": [
        "<a href=\"https://colab.research.google.com/github/BasmaAfreen/Stats-DeepLearning_Projects/blob/main/Basics_python.ipynb\" target=\"_parent\"><img src=\"https://colab.research.google.com/assets/colab-badge.svg\" alt=\"Open In Colab\"/></a>"
      ]
    },
    {
      "cell_type": "markdown",
      "id": "d4089350-b39f-409b-850f-684285d1b025",
      "metadata": {
        "id": "d4089350-b39f-409b-850f-684285d1b025"
      },
      "source": [
        "# Exercise 1: Prime Numbers\n",
        ". Write a Python program that checks whether a given number is prime or not. A prime number is a natural number greater than 1 that has no positive divisors other than 1 and itself.\n"
      ]
    },
    {
      "cell_type": "markdown",
      "id": "8b84820d-6f93-4f09-b0eb-1ac04781b09a",
      "metadata": {
        "id": "8b84820d-6f93-4f09-b0eb-1ac04781b09a"
      },
      "source": [
        "The  number which  is divisible by 1 and itself are prime numbers.\n",
        "\n",
        "1. Userinput: The  input function () is used to get input from user ,as we know by default  it takes string, so convert the input string into an integer use int function () and store it in th variable prime\n",
        "2. we are going to us for loop to seT a range and then  find out if the the givn numbr is  div by any other or not.\n",
        "3. for i in range(2, prime) : the loop iterates from 2 to prime-1,as we all no. are div by 1 .\n",
        "4. if prime % i == 0 : this condition checks if  given number is % by i.\n",
        "5. if the reminder is zero ,it means it is not  a prime number .\n",
        "6.  if the number is not a prime or  prime % i == 0, come out of loop using BREAK   ,why to check with  all other numbers.\n",
        "7.  the given number % i !=0, then else block gets executed.\n",
        "8.  note : we want to ececute else block  when entire loop is completed without break."
      ]
    },
    {
      "cell_type": "code",
      "execution_count": null,
      "id": "44124a48-81e8-4b70-9b3e-0e66b98dc3f2",
      "metadata": {
        "id": "44124a48-81e8-4b70-9b3e-0e66b98dc3f2",
        "outputId": "dd296f04-3f76-4651-a519-154173862e6e"
      },
      "outputs": [
        {
          "name": "stdout",
          "output_type": "stream",
          "text": [
            "5  is a prime number\n"
          ]
        }
      ],
      "source": [
        "prime = 5\n",
        "\n",
        "for i in range(2, prime):  # Start from 2 to avoid division by 1\n",
        "    if prime % i == 0:\n",
        "        print(\"It's not a prime number\",i)\n",
        "        break\n",
        "else:\n",
        "       print(prime,\" is a prime number\")\n",
        "#note :  given number i compared with  all the values in range as if is in loop."
      ]
    },
    {
      "cell_type": "markdown",
      "id": "0e637581-48e9-4e5f-a46a-df37b15e95ee",
      "metadata": {
        "id": "0e637581-48e9-4e5f-a46a-df37b15e95ee"
      },
      "source": [
        "# Exercise 2: Product of Random Numbers\n",
        "Develop a Python program that generates two random numbers and asks the user to enter the product of these numbers. The program should then check if the user's answer is correct and display an appropriate message.\n"
      ]
    },
    {
      "cell_type": "code",
      "execution_count": null,
      "id": "50d5b429-c5a4-4491-b7d3-6361dd54f088",
      "metadata": {
        "id": "50d5b429-c5a4-4491-b7d3-6361dd54f088"
      },
      "outputs": [],
      "source": [
        "1. random is module in python to generate random numbers\n",
        "2. To call any module in python we use import\n",
        "3. In ramdom modle  there are many functions one of them is randomint.randomint will give us or generates ramdom numbers in given a range ."
      ]
    },
    {
      "cell_type": "code",
      "execution_count": null,
      "id": "9ae63179-6840-4548-91fd-d710891c6d27",
      "metadata": {
        "id": "9ae63179-6840-4548-91fd-d710891c6d27",
        "outputId": "3ce7da38-c72d-4262-da29-b632fc689d2a"
      },
      "outputs": [
        {
          "name": "stdout",
          "output_type": "stream",
          "text": [
            "9\n",
            "17\n"
          ]
        },
        {
          "name": "stdin",
          "output_type": "stream",
          "text": [
            "Enter product of these numbers :- 7979\n"
          ]
        },
        {
          "name": "stdout",
          "output_type": "stream",
          "text": [
            "The product of two numbers is  INcorrect :  153\n"
          ]
        }
      ],
      "source": [
        "import random\n",
        "num1=random.randint(1,10) # start and end included\n",
        "num2=random.randint(10,20)\n",
        "print(num1)\n",
        "print(num2)\n",
        "\n",
        "user=int(input(\"Enter product of these numbers :-\"))\n",
        "\n",
        "#calculating randomly gnerated numbers and storing in new variable named product\n",
        "product=num1*num2\n",
        "\n",
        "# Check's if user entered product of those numbers are correct if true , then  diplay the message which is in if block statement.\n",
        "if user == product :\n",
        "    print(\"The product of two numbers is  correct : \", product)\n",
        "\n",
        "# if   user's answer is incorrect  else block statment will get executed.\n",
        "else :\n",
        "    print(\"The product of two numbers is  INcorrect : \", product)"
      ]
    },
    {
      "cell_type": "markdown",
      "id": "0c69aae3-646e-473f-9e2d-7030c7aca9a2",
      "metadata": {
        "id": "0c69aae3-646e-473f-9e2d-7030c7aca9a2"
      },
      "source": [
        "# Exercise 3: Squares of Even/Odd Numbers\n",
        "\n",
        "- Create a Python script that prints the squares of all even or odd numbers within the range of 100 to 200. Choose either even or odd numbers and document your choice in the code."
      ]
    },
    {
      "cell_type": "code",
      "execution_count": null,
      "id": "f5324fd3-1776-4a02-9836-909adfd98438",
      "metadata": {
        "id": "f5324fd3-1776-4a02-9836-909adfd98438",
        "outputId": "a44eda66-3f9c-4996-a1e9-cb67c8a9f1e7"
      },
      "outputs": [
        {
          "name": "stdout",
          "output_type": "stream",
          "text": [
            "EVEN Numbers \n",
            "\n",
            "[100, 102, 104, 106, 108, 110, 112, 114, 116, 118, 120, 122, 124, 126, 128, 130, 132, 134, 136, 138, 140, 142, 144, 146, 148, 150, 152, 154, 156, 158, 160, 162, 164, 166, 168, 170, 172, 174, 176, 178, 180, 182, 184, 186, 188, 190, 192, 194, 196, 198, 200] \n",
            "\n",
            "[10000, 10404, 10816, 11236, 11664, 12100, 12544, 12996, 13456, 13924, 14400, 14884, 15376, 15876, 16384, 16900, 17424, 17956, 18496, 19044, 19600, 20164, 20736, 21316, 21904, 22500, 23104, 23716, 24336, 24964, 25600, 26244, 26896, 27556, 28224, 28900, 29584, 30276, 30976, 31684, 32400, 33124, 33856, 34596, 35344, 36100, 36864, 37636, 38416, 39204, 40000] \n",
            "\n",
            "ODD Numbers \n",
            "\n",
            "[101, 103, 105, 107, 109, 111, 113, 115, 117, 119, 121, 123, 125, 127, 129, 131, 133, 135, 137, 139, 141, 143, 145, 147, 149, 151, 153, 155, 157, 159, 161, 163, 165, 167, 169, 171, 173, 175, 177, 179, 181, 183, 185, 187, 189, 191, 193, 195, 197, 199] \n",
            "\n",
            "[10201, 10609, 11025, 11449, 11881, 12321, 12769, 13225, 13689, 14161, 14641, 15129, 15625, 16129, 16641, 17161, 17689, 18225, 18769, 19321, 19881, 20449, 21025, 21609, 22201, 22801, 23409, 24025, 24649, 25281, 25921, 26569, 27225, 27889, 28561, 29241, 29929, 30625, 31329, 32041, 32761, 33489, 34225, 34969, 35721, 36481, 37249, 38025, 38809, 39601] \n",
            "\n"
          ]
        }
      ],
      "source": [
        "# Create empty lists to store even, odd, and their squares\n",
        "even_numbers=[]\n",
        "square_even=[]\n",
        "odd_numbers=[]\n",
        "square_odd=[]\n",
        "\n",
        "# A for loop Iterate over numbers from 100 to 200\n",
        "for i in range (100,201):\n",
        "# Check if the number is even\n",
        "    if i %2==0:\n",
        "# If even, append to even_numbers and square_even\n",
        "        even_numbers.append(i)\n",
        "        square_even.append(i*i)\n",
        "    else :\n",
        "         odd_numbers.append(i)\n",
        "         square_odd.append(i*i)\n",
        "\n",
        "# Print the results\n",
        "print(\"EVEN Numbers\",\"\\n\")\n",
        "print(even_numbers,\"\\n\")\n",
        "print(square_even,\"\\n\"),\n",
        "print(\"ODD Numbers\",\"\\n\")\n",
        "print(odd_numbers,\"\\n\")\n",
        "print(square_odd,\"\\n\")\n",
        ""
      ]
    },
    {
      "cell_type": "code",
      "execution_count": null,
      "id": "7cc7d8cc-bbaf-48fc-82df-c121198cac42",
      "metadata": {
        "id": "7cc7d8cc-bbaf-48fc-82df-c121198cac42"
      },
      "outputs": [],
      "source": [
        "def Squares_of_even_numbers(a, b):\n",
        "    start=int(input(\"enter numbr\"))\n",
        "    end=int(input(\"enter numbr\"))\n",
        "    for i in range(start ,end+1):\n",
        "        if i %2 ==0:\n",
        "            print(i*i)\n",
        "Squares_of_even_numbers(1,10)"
      ]
    },
    {
      "cell_type": "markdown",
      "id": "7c4f9a9a-c79a-4bad-a77a-0365872c779d",
      "metadata": {
        "id": "7c4f9a9a-c79a-4bad-a77a-0365872c779d"
      },
      "source": [
        "# Exercise 4: Word counter\n",
        "- write a program to count the number of words in a given text.\n"
      ]
    },
    {
      "cell_type": "code",
      "execution_count": null,
      "id": "3e464ced-c915-4774-9429-2d4256d0ecf1",
      "metadata": {
        "id": "3e464ced-c915-4774-9429-2d4256d0ecf1"
      },
      "outputs": [],
      "source": [
        "1. split() : divides the string into a list of words, using whitespace (spaces, tabs, newlines)\n",
        "as the default delimiter.\n",
        "2. as we know dict dont have index no but its keys are unique identifier ,doesnt't allow duplicate and store in key : value pairs.\n",
        "3.  checks if i(word) is present in dict ,if yes increses the value by count. if not goes to else block.\n",
        "4.  if not goes to else block and adds i to dictionary\n"
      ]
    },
    {
      "cell_type": "code",
      "execution_count": null,
      "id": "e9b22368-365d-4f7a-bcfb-c6bd88fc51de",
      "metadata": {
        "id": "e9b22368-365d-4f7a-bcfb-c6bd88fc51de",
        "outputId": "3ca4336c-e567-4b4d-f280-e7417e56788d"
      },
      "outputs": [
        {
          "name": "stdin",
          "output_type": "stream",
          "text": [
            "Enter a sentence :-  how are you \n"
          ]
        },
        {
          "name": "stdout",
          "output_type": "stream",
          "text": [
            "['how', 'are', 'you']\n",
            "{'how': 1, 'are': 1, 'you': 1}\n"
          ]
        }
      ],
      "source": [
        "text=input(\"Enter a sentence :- \")\n",
        "\n",
        "# split() : divides the string into a list of words, using whitespace (spaces, tabs, newlines) as the default delimiter.\n",
        "word=text.split()\n",
        "print(word)\n",
        "#create an empty dictionary to store word frequencies\n",
        "dict={}      # as we know dict dont have index no but its keys are unique identifier ,doesnt't allow duplicate and store in key : value pairs.\n",
        "\n",
        "#iterate over each word in the list\n",
        "for i in word:\n",
        "\n",
        "#if the word is already in the dict ,increment by one\n",
        "# checks if i is present in dict ,if yes increses th value by by 1. if not goes to else block.\n",
        "    if i in dict:\n",
        "        dict[i]=dict[i]+1\n",
        "# if not goes to else block and adds i to dictionary\n",
        "    else :\n",
        "        dict[i]=1\n",
        "print(dict)\n"
      ]
    },
    {
      "cell_type": "markdown",
      "id": "4bf8386b-879a-4939-ada1-3c5ff7ad1d8e",
      "metadata": {
        "id": "4bf8386b-879a-4939-ada1-3c5ff7ad1d8e"
      },
      "source": [
        "### method 2"
      ]
    },
    {
      "cell_type": "code",
      "execution_count": null,
      "id": "ec382d93-6569-4427-95c9-b645b9834b7b",
      "metadata": {
        "id": "ec382d93-6569-4427-95c9-b645b9834b7b"
      },
      "outputs": [],
      "source": [
        "def fun():\n",
        "    words = text.lower().split()\n",
        "\n",
        "    word_counts = {}\n",
        "    for i in words:\n",
        "        if i in word_counts:\n",
        "            word_counts[i] += 1\n",
        "        else:\n",
        "            word_counts[i] = 1\n",
        "    return word_counts\n",
        "\n",
        "# Example usage\n",
        "text = \"This is a test this ISS a test is this\"\n",
        "\n"
      ]
    },
    {
      "cell_type": "code",
      "execution_count": null,
      "id": "6d0dc9e2-0753-424b-9afe-939762187744",
      "metadata": {
        "id": "6d0dc9e2-0753-424b-9afe-939762187744",
        "outputId": "af5434ad-716d-44bb-99e0-34bd8ea9697e"
      },
      "outputs": [
        {
          "data": {
            "text/plain": [
              "{'this': 3, 'is': 2, 'a': 2, 'test': 2, 'iss': 1}"
            ]
          },
          "execution_count": 73,
          "metadata": {},
          "output_type": "execute_result"
        }
      ],
      "source": [
        "fun()"
      ]
    },
    {
      "cell_type": "markdown",
      "id": "af828a96-c04e-4410-8dd0-0466dea21f20",
      "metadata": {
        "id": "af828a96-c04e-4410-8dd0-0466dea21f20"
      },
      "source": [
        "# Exercise 5: Check for Palindrome\n",
        "- Write a Python function called is_palindrome that takes a string as input and returns True if the string is a palindrome, and False otherwise. A palindrome is a word, phrase, number, or other sequence of characters that reads the same forward and backward, ignoring spaces, punctuation, and capitalization.\n",
        "-  A palindrome is a word ,phrase,number that reads sam forward and backward ,ignoring spaces ,punctuationand capitalization"
      ]
    },
    {
      "cell_type": "raw",
      "id": "66755c1b-b15d-4bcf-bd67-4d066b58a37c",
      "metadata": {
        "id": "66755c1b-b15d-4bcf-bd67-4d066b58a37c"
      },
      "source": [
        "slicing in string can return a sub string and reverse of string\n",
        "# step 1: creating varibles\n",
        "# step 2: slicing string in reverse\n",
        "# step 3: camparision using  operators and  conditional  statement\n"
      ]
    },
    {
      "cell_type": "markdown",
      "id": "2a9c5c3b-e3cb-4f1e-ba9c-c7b216372cb1",
      "metadata": {
        "id": "2a9c5c3b-e3cb-4f1e-ba9c-c7b216372cb1"
      },
      "source": [
        "# Method 1"
      ]
    },
    {
      "cell_type": "code",
      "execution_count": null,
      "id": "e650a09f-fcbe-43f0-9a47-9d96357670a9",
      "metadata": {
        "id": "e650a09f-fcbe-43f0-9a47-9d96357670a9"
      },
      "outputs": [],
      "source": [
        "# creating a function  makes code reusable\n",
        "# checks if a given string is a palindrome\n",
        "#Args:- string : the input string to check\n",
        "def is_palindrome(string):\n",
        "\n",
        "\n",
        "# creating a revere of string using slicing and storing in new variable , omitting start and stop  implies taking the entire string,the step of -1 indicates reversing the order of string\n",
        "     reverse_string= string[: : -1]\n",
        "     print(\"reverse_string : \", reverse_string)\n",
        "\n",
        "#returns true if the string is a palinfrome ,othrwise false\n",
        "     return reverse_string==string\n",
        ""
      ]
    },
    {
      "cell_type": "code",
      "execution_count": null,
      "id": "81276d2b-12e9-4984-a661-d14a19c2d048",
      "metadata": {
        "id": "81276d2b-12e9-4984-a661-d14a19c2d048"
      },
      "outputs": [],
      "source": [
        "is_palindrome(\"madam\")"
      ]
    },
    {
      "cell_type": "markdown",
      "id": "d3bf4faf-3b38-4bcc-9beb-c2f74d47bc83",
      "metadata": {
        "id": "d3bf4faf-3b38-4bcc-9beb-c2f74d47bc83"
      },
      "source": [
        "# Method 2"
      ]
    },
    {
      "cell_type": "code",
      "execution_count": null,
      "id": "70e1ed11-079e-49c1-baf8-dfe2b0646271",
      "metadata": {
        "id": "70e1ed11-079e-49c1-baf8-dfe2b0646271"
      },
      "outputs": [],
      "source": [
        "def is_palindrome():\n",
        "     string=input(\"Enter to word\")\n",
        "\n",
        "\n",
        "\n",
        "# creating a revere of string using slicing and storing in nw variable ,omitting start and stop  implies taking the entire string,the step of -1 indicates reversing the order of string\n",
        "     reverse_string= string[: : -1]\n",
        "     print(\"reverse_string : \", reverse_string)\n",
        "\n",
        "\n",
        "# check's if  the original and reversed string and equal\n",
        "     if string == reverse_string:\n",
        "        print(\"string is palindrome\")\n",
        "     else :\n",
        "        print(\" string is not a polindrome\")\n",
        "     return reverse_string==string"
      ]
    },
    {
      "cell_type": "markdown",
      "id": "5910fc88-fae5-4220-bca2-c16ce777c09e",
      "metadata": {
        "id": "5910fc88-fae5-4220-bca2-c16ce777c09e"
      },
      "source": [
        "# Method 3"
      ]
    },
    {
      "cell_type": "code",
      "execution_count": null,
      "id": "2c3ed557-df6c-4cba-831d-4491cfa148ec",
      "metadata": {
        "id": "2c3ed557-df6c-4cba-831d-4491cfa148ec",
        "outputId": "86b4e877-1fa1-4ef7-e587-6b132e8f55a7"
      },
      "outputs": [
        {
          "name": "stdin",
          "output_type": "stream",
          "text": [
            "Enter a text:  mam\n"
          ]
        },
        {
          "name": "stdout",
          "output_type": "stream",
          "text": [
            "reverse_string :  mam\n",
            "mam is a palindrome.\n",
            "reverse_string :  mam\n"
          ]
        },
        {
          "data": {
            "text/plain": [
              "True"
            ]
          },
          "execution_count": 9,
          "metadata": {},
          "output_type": "execute_result"
        }
      ],
      "source": [
        "# creating a function  makes code reusable\n",
        "#Defined a function named is_palindrome that takes a string as input.\n",
        "def is_palindrome(string):\n",
        "    \"\"\"Checks if a given string is a palindrome.\n",
        "\n",
        "    Args:\n",
        "        string: The input string to check.\n",
        "\n",
        "    \"\"\"\n",
        "\n",
        "\n",
        "     # Reverse the string using slicing\n",
        "    reverse_string= string[::-1]\n",
        "    print(\"reverse_string : \", reverse_string)\n",
        "\n",
        "    # revere of string using slicing and storing in new variable ,omitting start and stop  implies taking the entire string,the step of -1 indicates reversing the order of string'''\n",
        "      #Returns:True if the string is a palindrome(If the original string and its reversed version are the same, it's a palindrome.), False otherwise.\n",
        "    return  string ==reverse_string\n",
        "\n",
        "\n",
        "# prompts the user to enter a string.\n",
        "string = input(\"Enter a text: \")\n",
        "\n",
        "# Check if the string is a palindrome and print the result\n",
        "if is_palindrome(string):\n",
        "    print(string, \"is a palindrome.\")\n",
        "else:\n",
        "    print(string, \"is not a palindrome.\")\n",
        "\n",
        "#the is_palindrome function is called with the user's input as an argument.\n",
        "is_palindrome(string)"
      ]
    },
    {
      "cell_type": "code",
      "execution_count": null,
      "id": "8dbef5ab-4d30-4880-a47e-7dfce092b9ab",
      "metadata": {
        "id": "8dbef5ab-4d30-4880-a47e-7dfce092b9ab"
      },
      "outputs": [],
      "source": []
    }
  ],
  "metadata": {
    "kernelspec": {
      "display_name": "Python 3 (ipykernel)",
      "language": "python",
      "name": "python3"
    },
    "language_info": {
      "codemirror_mode": {
        "name": "ipython",
        "version": 3
      },
      "file_extension": ".py",
      "mimetype": "text/x-python",
      "name": "python",
      "nbconvert_exporter": "python",
      "pygments_lexer": "ipython3",
      "version": "3.12.4"
    },
    "colab": {
      "provenance": [],
      "include_colab_link": true
    }
  },
  "nbformat": 4,
  "nbformat_minor": 5
}