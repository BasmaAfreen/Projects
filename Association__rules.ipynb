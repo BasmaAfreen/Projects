{
  "cells": [
    {
      "cell_type": "markdown",
      "metadata": {
        "id": "view-in-github",
        "colab_type": "text"
      },
      "source": [
        "<a href=\"https://colab.research.google.com/github/BasmaAfreen/Stats-DeepLearning_Projects/blob/main/Association__rules.ipynb\" target=\"_parent\"><img src=\"https://colab.research.google.com/assets/colab-badge.svg\" alt=\"Open In Colab\"/></a>"
      ]
    },
    {
      "cell_type": "markdown",
      "id": "835ab004-52bf-4c9f-b914-7723bf90b3d2",
      "metadata": {
        "id": "835ab004-52bf-4c9f-b914-7723bf90b3d2"
      },
      "source": [
        "# Data Preprocessing:\n",
        "Pre-process the dataset to ensure it is suitable for Association rules, this may include handling missing values, removing duplicates, and converting the data to appropriate format.  \n"
      ]
    },
    {
      "cell_type": "code",
      "execution_count": null,
      "id": "d95bf801-ccbe-4a17-a848-1c0696ae8f68",
      "metadata": {
        "id": "d95bf801-ccbe-4a17-a848-1c0696ae8f68",
        "outputId": "ef2b9224-060c-418f-a2a8-4de799c6bc36"
      },
      "outputs": [
        {
          "data": {
            "text/html": [
              "<div>\n",
              "<style scoped>\n",
              "    .dataframe tbody tr th:only-of-type {\n",
              "        vertical-align: middle;\n",
              "    }\n",
              "\n",
              "    .dataframe tbody tr th {\n",
              "        vertical-align: top;\n",
              "    }\n",
              "\n",
              "    .dataframe thead th {\n",
              "        text-align: right;\n",
              "    }\n",
              "</style>\n",
              "<table border=\"1\" class=\"dataframe\">\n",
              "  <thead>\n",
              "    <tr style=\"text-align: right;\">\n",
              "      <th></th>\n",
              "      <th>0</th>\n",
              "    </tr>\n",
              "  </thead>\n",
              "  <tbody>\n",
              "    <tr>\n",
              "      <th>0</th>\n",
              "      <td>shrimp,almonds,avocado,vegetables mix,green gr...</td>\n",
              "    </tr>\n",
              "    <tr>\n",
              "      <th>1</th>\n",
              "      <td>burgers,meatballs,eggs</td>\n",
              "    </tr>\n",
              "    <tr>\n",
              "      <th>2</th>\n",
              "      <td>chutney</td>\n",
              "    </tr>\n",
              "    <tr>\n",
              "      <th>3</th>\n",
              "      <td>turkey,avocado</td>\n",
              "    </tr>\n",
              "    <tr>\n",
              "      <th>4</th>\n",
              "      <td>mineral water,milk,energy bar,whole wheat rice...</td>\n",
              "    </tr>\n",
              "    <tr>\n",
              "      <th>...</th>\n",
              "      <td>...</td>\n",
              "    </tr>\n",
              "    <tr>\n",
              "      <th>7496</th>\n",
              "      <td>butter,light mayo,fresh bread</td>\n",
              "    </tr>\n",
              "    <tr>\n",
              "      <th>7497</th>\n",
              "      <td>burgers,frozen vegetables,eggs,french fries,ma...</td>\n",
              "    </tr>\n",
              "    <tr>\n",
              "      <th>7498</th>\n",
              "      <td>chicken</td>\n",
              "    </tr>\n",
              "    <tr>\n",
              "      <th>7499</th>\n",
              "      <td>escalope,green tea</td>\n",
              "    </tr>\n",
              "    <tr>\n",
              "      <th>7500</th>\n",
              "      <td>eggs,frozen smoothie,yogurt cake,low fat yogurt</td>\n",
              "    </tr>\n",
              "  </tbody>\n",
              "</table>\n",
              "<p>7501 rows × 1 columns</p>\n",
              "</div>"
            ],
            "text/plain": [
              "                                                      0\n",
              "0     shrimp,almonds,avocado,vegetables mix,green gr...\n",
              "1                                burgers,meatballs,eggs\n",
              "2                                               chutney\n",
              "3                                        turkey,avocado\n",
              "4     mineral water,milk,energy bar,whole wheat rice...\n",
              "...                                                 ...\n",
              "7496                      butter,light mayo,fresh bread\n",
              "7497  burgers,frozen vegetables,eggs,french fries,ma...\n",
              "7498                                            chicken\n",
              "7499                                 escalope,green tea\n",
              "7500    eggs,frozen smoothie,yogurt cake,low fat yogurt\n",
              "\n",
              "[7501 rows x 1 columns]"
            ]
          },
          "execution_count": 1,
          "metadata": {},
          "output_type": "execute_result"
        }
      ],
      "source": [
        "import pandas as pd\n",
        "df=pd.read_excel(\"Online retail.xlsx\",header=None)  # header=None bcz  by default it will consider 1st row as column names, so i have mention that this csv does not have and headrs\n",
        "df"
      ]
    },
    {
      "cell_type": "code",
      "execution_count": null,
      "id": "97e741b7-52c7-49d7-8030-28e1cdb5a816",
      "metadata": {
        "id": "97e741b7-52c7-49d7-8030-28e1cdb5a816",
        "outputId": "bb898071-f103-4c4a-c9f2-18bc19f8b81d"
      },
      "outputs": [
        {
          "data": {
            "text/html": [
              "<div>\n",
              "<style scoped>\n",
              "    .dataframe tbody tr th:only-of-type {\n",
              "        vertical-align: middle;\n",
              "    }\n",
              "\n",
              "    .dataframe tbody tr th {\n",
              "        vertical-align: top;\n",
              "    }\n",
              "\n",
              "    .dataframe thead th {\n",
              "        text-align: right;\n",
              "    }\n",
              "</style>\n",
              "<table border=\"1\" class=\"dataframe\">\n",
              "  <thead>\n",
              "    <tr style=\"text-align: right;\">\n",
              "      <th></th>\n",
              "      <th>0</th>\n",
              "      <th>1</th>\n",
              "      <th>2</th>\n",
              "      <th>3</th>\n",
              "      <th>4</th>\n",
              "      <th>5</th>\n",
              "      <th>6</th>\n",
              "      <th>7</th>\n",
              "      <th>8</th>\n",
              "      <th>9</th>\n",
              "      <th>10</th>\n",
              "      <th>11</th>\n",
              "      <th>12</th>\n",
              "      <th>13</th>\n",
              "      <th>14</th>\n",
              "      <th>15</th>\n",
              "      <th>16</th>\n",
              "      <th>17</th>\n",
              "      <th>18</th>\n",
              "      <th>19</th>\n",
              "    </tr>\n",
              "  </thead>\n",
              "  <tbody>\n",
              "    <tr>\n",
              "      <th>0</th>\n",
              "      <td>shrimp</td>\n",
              "      <td>almonds</td>\n",
              "      <td>avocado</td>\n",
              "      <td>vegetables mix</td>\n",
              "      <td>green grapes</td>\n",
              "      <td>whole weat flour</td>\n",
              "      <td>yams</td>\n",
              "      <td>cottage cheese</td>\n",
              "      <td>energy drink</td>\n",
              "      <td>tomato juice</td>\n",
              "      <td>low fat yogurt</td>\n",
              "      <td>green tea</td>\n",
              "      <td>honey</td>\n",
              "      <td>salad</td>\n",
              "      <td>mineral water</td>\n",
              "      <td>salmon</td>\n",
              "      <td>antioxydant juice</td>\n",
              "      <td>frozen smoothie</td>\n",
              "      <td>spinach</td>\n",
              "      <td>olive oil</td>\n",
              "    </tr>\n",
              "    <tr>\n",
              "      <th>1</th>\n",
              "      <td>burgers</td>\n",
              "      <td>meatballs</td>\n",
              "      <td>eggs</td>\n",
              "      <td>None</td>\n",
              "      <td>None</td>\n",
              "      <td>None</td>\n",
              "      <td>None</td>\n",
              "      <td>None</td>\n",
              "      <td>None</td>\n",
              "      <td>None</td>\n",
              "      <td>None</td>\n",
              "      <td>None</td>\n",
              "      <td>None</td>\n",
              "      <td>None</td>\n",
              "      <td>None</td>\n",
              "      <td>None</td>\n",
              "      <td>None</td>\n",
              "      <td>None</td>\n",
              "      <td>None</td>\n",
              "      <td>None</td>\n",
              "    </tr>\n",
              "    <tr>\n",
              "      <th>2</th>\n",
              "      <td>chutney</td>\n",
              "      <td>None</td>\n",
              "      <td>None</td>\n",
              "      <td>None</td>\n",
              "      <td>None</td>\n",
              "      <td>None</td>\n",
              "      <td>None</td>\n",
              "      <td>None</td>\n",
              "      <td>None</td>\n",
              "      <td>None</td>\n",
              "      <td>None</td>\n",
              "      <td>None</td>\n",
              "      <td>None</td>\n",
              "      <td>None</td>\n",
              "      <td>None</td>\n",
              "      <td>None</td>\n",
              "      <td>None</td>\n",
              "      <td>None</td>\n",
              "      <td>None</td>\n",
              "      <td>None</td>\n",
              "    </tr>\n",
              "    <tr>\n",
              "      <th>3</th>\n",
              "      <td>turkey</td>\n",
              "      <td>avocado</td>\n",
              "      <td>None</td>\n",
              "      <td>None</td>\n",
              "      <td>None</td>\n",
              "      <td>None</td>\n",
              "      <td>None</td>\n",
              "      <td>None</td>\n",
              "      <td>None</td>\n",
              "      <td>None</td>\n",
              "      <td>None</td>\n",
              "      <td>None</td>\n",
              "      <td>None</td>\n",
              "      <td>None</td>\n",
              "      <td>None</td>\n",
              "      <td>None</td>\n",
              "      <td>None</td>\n",
              "      <td>None</td>\n",
              "      <td>None</td>\n",
              "      <td>None</td>\n",
              "    </tr>\n",
              "    <tr>\n",
              "      <th>4</th>\n",
              "      <td>mineral water</td>\n",
              "      <td>milk</td>\n",
              "      <td>energy bar</td>\n",
              "      <td>whole wheat rice</td>\n",
              "      <td>green tea</td>\n",
              "      <td>None</td>\n",
              "      <td>None</td>\n",
              "      <td>None</td>\n",
              "      <td>None</td>\n",
              "      <td>None</td>\n",
              "      <td>None</td>\n",
              "      <td>None</td>\n",
              "      <td>None</td>\n",
              "      <td>None</td>\n",
              "      <td>None</td>\n",
              "      <td>None</td>\n",
              "      <td>None</td>\n",
              "      <td>None</td>\n",
              "      <td>None</td>\n",
              "      <td>None</td>\n",
              "    </tr>\n",
              "    <tr>\n",
              "      <th>...</th>\n",
              "      <td>...</td>\n",
              "      <td>...</td>\n",
              "      <td>...</td>\n",
              "      <td>...</td>\n",
              "      <td>...</td>\n",
              "      <td>...</td>\n",
              "      <td>...</td>\n",
              "      <td>...</td>\n",
              "      <td>...</td>\n",
              "      <td>...</td>\n",
              "      <td>...</td>\n",
              "      <td>...</td>\n",
              "      <td>...</td>\n",
              "      <td>...</td>\n",
              "      <td>...</td>\n",
              "      <td>...</td>\n",
              "      <td>...</td>\n",
              "      <td>...</td>\n",
              "      <td>...</td>\n",
              "      <td>...</td>\n",
              "    </tr>\n",
              "    <tr>\n",
              "      <th>7496</th>\n",
              "      <td>butter</td>\n",
              "      <td>light mayo</td>\n",
              "      <td>fresh bread</td>\n",
              "      <td>None</td>\n",
              "      <td>None</td>\n",
              "      <td>None</td>\n",
              "      <td>None</td>\n",
              "      <td>None</td>\n",
              "      <td>None</td>\n",
              "      <td>None</td>\n",
              "      <td>None</td>\n",
              "      <td>None</td>\n",
              "      <td>None</td>\n",
              "      <td>None</td>\n",
              "      <td>None</td>\n",
              "      <td>None</td>\n",
              "      <td>None</td>\n",
              "      <td>None</td>\n",
              "      <td>None</td>\n",
              "      <td>None</td>\n",
              "    </tr>\n",
              "    <tr>\n",
              "      <th>7497</th>\n",
              "      <td>burgers</td>\n",
              "      <td>frozen vegetables</td>\n",
              "      <td>eggs</td>\n",
              "      <td>french fries</td>\n",
              "      <td>magazines</td>\n",
              "      <td>green tea</td>\n",
              "      <td>None</td>\n",
              "      <td>None</td>\n",
              "      <td>None</td>\n",
              "      <td>None</td>\n",
              "      <td>None</td>\n",
              "      <td>None</td>\n",
              "      <td>None</td>\n",
              "      <td>None</td>\n",
              "      <td>None</td>\n",
              "      <td>None</td>\n",
              "      <td>None</td>\n",
              "      <td>None</td>\n",
              "      <td>None</td>\n",
              "      <td>None</td>\n",
              "    </tr>\n",
              "    <tr>\n",
              "      <th>7498</th>\n",
              "      <td>chicken</td>\n",
              "      <td>None</td>\n",
              "      <td>None</td>\n",
              "      <td>None</td>\n",
              "      <td>None</td>\n",
              "      <td>None</td>\n",
              "      <td>None</td>\n",
              "      <td>None</td>\n",
              "      <td>None</td>\n",
              "      <td>None</td>\n",
              "      <td>None</td>\n",
              "      <td>None</td>\n",
              "      <td>None</td>\n",
              "      <td>None</td>\n",
              "      <td>None</td>\n",
              "      <td>None</td>\n",
              "      <td>None</td>\n",
              "      <td>None</td>\n",
              "      <td>None</td>\n",
              "      <td>None</td>\n",
              "    </tr>\n",
              "    <tr>\n",
              "      <th>7499</th>\n",
              "      <td>escalope</td>\n",
              "      <td>green tea</td>\n",
              "      <td>None</td>\n",
              "      <td>None</td>\n",
              "      <td>None</td>\n",
              "      <td>None</td>\n",
              "      <td>None</td>\n",
              "      <td>None</td>\n",
              "      <td>None</td>\n",
              "      <td>None</td>\n",
              "      <td>None</td>\n",
              "      <td>None</td>\n",
              "      <td>None</td>\n",
              "      <td>None</td>\n",
              "      <td>None</td>\n",
              "      <td>None</td>\n",
              "      <td>None</td>\n",
              "      <td>None</td>\n",
              "      <td>None</td>\n",
              "      <td>None</td>\n",
              "    </tr>\n",
              "    <tr>\n",
              "      <th>7500</th>\n",
              "      <td>eggs</td>\n",
              "      <td>frozen smoothie</td>\n",
              "      <td>yogurt cake</td>\n",
              "      <td>low fat yogurt</td>\n",
              "      <td>None</td>\n",
              "      <td>None</td>\n",
              "      <td>None</td>\n",
              "      <td>None</td>\n",
              "      <td>None</td>\n",
              "      <td>None</td>\n",
              "      <td>None</td>\n",
              "      <td>None</td>\n",
              "      <td>None</td>\n",
              "      <td>None</td>\n",
              "      <td>None</td>\n",
              "      <td>None</td>\n",
              "      <td>None</td>\n",
              "      <td>None</td>\n",
              "      <td>None</td>\n",
              "      <td>None</td>\n",
              "    </tr>\n",
              "  </tbody>\n",
              "</table>\n",
              "<p>7501 rows × 20 columns</p>\n",
              "</div>"
            ],
            "text/plain": [
              "                 0                  1            2                 3   \\\n",
              "0            shrimp            almonds      avocado    vegetables mix   \n",
              "1           burgers          meatballs         eggs              None   \n",
              "2           chutney               None         None              None   \n",
              "3            turkey            avocado         None              None   \n",
              "4     mineral water               milk   energy bar  whole wheat rice   \n",
              "...             ...                ...          ...               ...   \n",
              "7496         butter         light mayo  fresh bread              None   \n",
              "7497        burgers  frozen vegetables         eggs      french fries   \n",
              "7498        chicken               None         None              None   \n",
              "7499       escalope          green tea         None              None   \n",
              "7500           eggs    frozen smoothie  yogurt cake    low fat yogurt   \n",
              "\n",
              "                4                 5     6               7             8   \\\n",
              "0     green grapes  whole weat flour  yams  cottage cheese  energy drink   \n",
              "1             None              None  None            None          None   \n",
              "2             None              None  None            None          None   \n",
              "3             None              None  None            None          None   \n",
              "4        green tea              None  None            None          None   \n",
              "...            ...               ...   ...             ...           ...   \n",
              "7496          None              None  None            None          None   \n",
              "7497     magazines         green tea  None            None          None   \n",
              "7498          None              None  None            None          None   \n",
              "7499          None              None  None            None          None   \n",
              "7500          None              None  None            None          None   \n",
              "\n",
              "                9               10         11     12     13             14  \\\n",
              "0     tomato juice  low fat yogurt  green tea  honey  salad  mineral water   \n",
              "1             None            None       None   None   None           None   \n",
              "2             None            None       None   None   None           None   \n",
              "3             None            None       None   None   None           None   \n",
              "4             None            None       None   None   None           None   \n",
              "...            ...             ...        ...    ...    ...            ...   \n",
              "7496          None            None       None   None   None           None   \n",
              "7497          None            None       None   None   None           None   \n",
              "7498          None            None       None   None   None           None   \n",
              "7499          None            None       None   None   None           None   \n",
              "7500          None            None       None   None   None           None   \n",
              "\n",
              "          15                 16               17       18         19  \n",
              "0     salmon  antioxydant juice  frozen smoothie  spinach  olive oil  \n",
              "1       None               None             None     None       None  \n",
              "2       None               None             None     None       None  \n",
              "3       None               None             None     None       None  \n",
              "4       None               None             None     None       None  \n",
              "...      ...                ...              ...      ...        ...  \n",
              "7496    None               None             None     None       None  \n",
              "7497    None               None             None     None       None  \n",
              "7498    None               None             None     None       None  \n",
              "7499    None               None             None     None       None  \n",
              "7500    None               None             None     None       None  \n",
              "\n",
              "[7501 rows x 20 columns]"
            ]
          },
          "execution_count": 2,
          "metadata": {},
          "output_type": "execute_result"
        }
      ],
      "source": [
        "# Split the column with comma-separated values into multiple columns\n",
        "df_split = df[0].str.split(',', expand=True)    #splits the values in the first column by commas and expands them into separate columns.\n",
        "\n",
        "#df[0] :-This accesses the first column of the DataFrame df. Here, df[0] is assumed to contain strings with comma-separated values.\n",
        "#.str  :- string methods allows us to apply string operations to each element in the Series.\n",
        "#.split(','): _This splits each string in the Series based on the specified delimiter, which is a comma (,). It converts each string into a list of substrings.\n",
        "# expand=True:- Without expand=True, the result would be a Series where each element is a list of substrings.\n",
        "\n",
        "# Display the transformed DataFrame\n",
        "df_split"
      ]
    },
    {
      "cell_type": "code",
      "execution_count": null,
      "id": "8a0e1124-b215-4946-8ddd-44aaca38a3c8",
      "metadata": {
        "id": "8a0e1124-b215-4946-8ddd-44aaca38a3c8"
      },
      "outputs": [],
      "source": [
        "#The command pip install apyori is used to install the apyori package, which is a simple implementation of the Apriori algorithm for association rule learning.\n",
        "#Apriori can be used to analyze customers' purchase patterns and discover which products are frequently bought together.\n",
        "#pip install apriori"
      ]
    },
    {
      "cell_type": "code",
      "execution_count": null,
      "id": "703a4c13-cf74-4c74-9d7f-63151eab0bd4",
      "metadata": {
        "id": "703a4c13-cf74-4c74-9d7f-63151eab0bd4",
        "outputId": "529ffca2-50eb-46b9-fa91-c7940be75245"
      },
      "outputs": [
        {
          "data": {
            "text/plain": [
              "['shrimp',\n",
              " 'almonds',\n",
              " 'avocado',\n",
              " 'vegetables mix',\n",
              " 'green grapes',\n",
              " 'whole weat flour',\n",
              " 'yams',\n",
              " 'cottage cheese',\n",
              " 'energy drink',\n",
              " 'tomato juice',\n",
              " 'low fat yogurt',\n",
              " 'green tea',\n",
              " 'honey',\n",
              " 'salad',\n",
              " 'mineral water',\n",
              " 'salmon',\n",
              " 'antioxydant juice',\n",
              " 'frozen smoothie',\n",
              " 'spinach',\n",
              " 'olive oil']"
            ]
          },
          "execution_count": 4,
          "metadata": {},
          "output_type": "execute_result"
        }
      ],
      "source": [
        "trans= []\n",
        "for i in range(0, 7501):\n",
        "  trans.append([str(df_split.values[i,j]) for j in range(0, 20)])  # trans list will have  total 7501 sublists\n",
        "trans[0]\n"
      ]
    },
    {
      "cell_type": "markdown",
      "id": "05584e9c-da39-4e2d-86c4-980c13ce94e0",
      "metadata": {
        "id": "05584e9c-da39-4e2d-86c4-980c13ce94e0"
      },
      "source": [
        "# Association Rule Mining:\n",
        "-\tImplement an Apriori algorithm using tool like python with libraries such as Pandas and Mlxtend etc.\n",
        "-\t Apply association rule mining techniques to the pre-processed dataset to discover interesting relationships between products purchased together.\n",
        "-\t Set appropriate threshold for support, confidence and lift to extract meaning full rules.\n"
      ]
    },
    {
      "cell_type": "code",
      "execution_count": null,
      "id": "c411bd8d-5d74-4dae-9365-e751ab2ee530",
      "metadata": {
        "id": "c411bd8d-5d74-4dae-9365-e751ab2ee530",
        "outputId": "69cef3f5-7b93-4596-eb45-d7daddf02bda"
      },
      "outputs": [
        {
          "data": {
            "text/plain": [
              "<generator object apriori at 0x00000289485E27A0>"
            ]
          },
          "execution_count": 5,
          "metadata": {},
          "output_type": "execute_result"
        }
      ],
      "source": [
        "from apyori import apriori\n",
        "rules = apriori(transactions = trans,  # passing  trans(transformed list)  to transaction parameter in apriori package\n",
        "                min_support = 0.003,\n",
        "                min_confidence = 0.2, #30%\n",
        "                min_lift = 3,\n",
        "                min_length = 2,\n",
        "                max_length = 2)\n",
        "\n",
        "rules # the combinations of iteams"
      ]
    },
    {
      "cell_type": "code",
      "execution_count": null,
      "id": "3ab1c305-ec93-464b-9685-e0756fac1e6e",
      "metadata": {
        "id": "3ab1c305-ec93-464b-9685-e0756fac1e6e",
        "outputId": "0a656ee1-b5ad-436e-88cc-7c5e8a738dbb"
      },
      "outputs": [
        {
          "data": {
            "text/plain": [
              "[RelationRecord(items=frozenset({'light cream', 'chicken'}), support=0.004532728969470737, ordered_statistics=[OrderedStatistic(items_base=frozenset({'light cream'}), items_add=frozenset({'chicken'}), confidence=0.29059829059829057, lift=4.84395061728395)]),\n",
              " RelationRecord(items=frozenset({'mushroom cream sauce', 'escalope'}), support=0.005732568990801226, ordered_statistics=[OrderedStatistic(items_base=frozenset({'mushroom cream sauce'}), items_add=frozenset({'escalope'}), confidence=0.3006993006993007, lift=3.790832696715049)]),\n",
              " RelationRecord(items=frozenset({'escalope', 'pasta'}), support=0.005865884548726837, ordered_statistics=[OrderedStatistic(items_base=frozenset({'pasta'}), items_add=frozenset({'escalope'}), confidence=0.3728813559322034, lift=4.700811850163794)]),\n",
              " RelationRecord(items=frozenset({'honey', 'fromage blanc'}), support=0.003332888948140248, ordered_statistics=[OrderedStatistic(items_base=frozenset({'fromage blanc'}), items_add=frozenset({'honey'}), confidence=0.2450980392156863, lift=5.164270764485569)]),\n",
              " RelationRecord(items=frozenset({'ground beef', 'herb & pepper'}), support=0.015997866951073192, ordered_statistics=[OrderedStatistic(items_base=frozenset({'herb & pepper'}), items_add=frozenset({'ground beef'}), confidence=0.3234501347708895, lift=3.2919938411349285)]),\n",
              " RelationRecord(items=frozenset({'ground beef', 'tomato sauce'}), support=0.005332622317024397, ordered_statistics=[OrderedStatistic(items_base=frozenset({'tomato sauce'}), items_add=frozenset({'ground beef'}), confidence=0.3773584905660377, lift=3.840659481324083)]),\n",
              " RelationRecord(items=frozenset({'light cream', 'olive oil'}), support=0.003199573390214638, ordered_statistics=[OrderedStatistic(items_base=frozenset({'light cream'}), items_add=frozenset({'olive oil'}), confidence=0.20512820512820515, lift=3.1147098515519573)]),\n",
              " RelationRecord(items=frozenset({'olive oil', 'whole wheat pasta'}), support=0.007998933475536596, ordered_statistics=[OrderedStatistic(items_base=frozenset({'whole wheat pasta'}), items_add=frozenset({'olive oil'}), confidence=0.2714932126696833, lift=4.122410097642296)]),\n",
              " RelationRecord(items=frozenset({'pasta', 'shrimp'}), support=0.005065991201173177, ordered_statistics=[OrderedStatistic(items_base=frozenset({'pasta'}), items_add=frozenset({'shrimp'}), confidence=0.3220338983050847, lift=4.506672147735896)])]"
            ]
          },
          "execution_count": 6,
          "metadata": {},
          "output_type": "execute_result"
        }
      ],
      "source": [
        "#to get results   use   list(rules)\n",
        "results=list(rules)\n",
        "results"
      ]
    },
    {
      "cell_type": "code",
      "execution_count": null,
      "id": "1b2239ef-6dd0-4776-9747-3f26220c1d18",
      "metadata": {
        "id": "1b2239ef-6dd0-4776-9747-3f26220c1d18",
        "outputId": "0830e610-a8cf-4724-c9bd-a6299a880945"
      },
      "outputs": [
        {
          "data": {
            "text/plain": [
              "9"
            ]
          },
          "execution_count": 7,
          "metadata": {},
          "output_type": "execute_result"
        }
      ],
      "source": [
        "len(results)\n",
        "\n"
      ]
    },
    {
      "cell_type": "code",
      "execution_count": null,
      "id": "3bcc3dae-c95d-44b2-b12b-f1e085d42eee",
      "metadata": {
        "id": "3bcc3dae-c95d-44b2-b12b-f1e085d42eee",
        "outputId": "f7735957-1ee0-4865-92dc-4a2d31794d02"
      },
      "outputs": [
        {
          "data": {
            "text/plain": [
              "RelationRecord(items=frozenset({'light cream', 'chicken'}), support=0.004532728969470737, ordered_statistics=[OrderedStatistic(items_base=frozenset({'light cream'}), items_add=frozenset({'chicken'}), confidence=0.29059829059829057, lift=4.84395061728395)])"
            ]
          },
          "execution_count": 8,
          "metadata": {},
          "output_type": "execute_result"
        }
      ],
      "source": [
        "results[0]\n"
      ]
    },
    {
      "cell_type": "markdown",
      "id": "d9942bc2-dd0c-4b91-8e63-cc88da522046",
      "metadata": {
        "id": "d9942bc2-dd0c-4b91-8e63-cc88da522046"
      },
      "source": [
        "***This association rule suggests that \"light cream\" and \"chicken\" often appear together in transactions. With a support of 0.45%, the confidence is\n",
        "roughly 29.06%, meaning that if \"light cream\" is purchased, there's a 29.06% chance \"chicken\" will be too, and the lift of 4.84 indicates this\n",
        "relationship is 4.84 times more likely than by random chance.***\n",
        "\n"
      ]
    },
    {
      "cell_type": "code",
      "execution_count": null,
      "id": "0d5652f5-4089-44f4-9cb2-00d9829241b4",
      "metadata": {
        "id": "0d5652f5-4089-44f4-9cb2-00d9829241b4",
        "outputId": "fd305441-c2d3-48b0-f9d2-7318a2895252"
      },
      "outputs": [
        {
          "data": {
            "text/plain": [
              "4.84395061728395"
            ]
          },
          "execution_count": 9,
          "metadata": {},
          "output_type": "execute_result"
        }
      ],
      "source": [
        "#  accessing each values in sublists\n",
        "results[0][1] # support\n",
        "results[0][2][0][0] # base item\n",
        "results[0][2][0][1] # add item\n",
        "results[0][2][0][2] # confidence\n",
        "results[0][2][0][3] # lift"
      ]
    },
    {
      "cell_type": "markdown",
      "id": "bf20150a-097d-4d06-8c96-6126c8ff1d3f",
      "metadata": {
        "id": "bf20150a-097d-4d06-8c96-6126c8ff1d3f"
      },
      "source": [
        "##### creating a new  list for each element of results list"
      ]
    },
    {
      "cell_type": "code",
      "execution_count": null,
      "id": "68b4eb73-c32a-4147-86cf-45f3139edd0c",
      "metadata": {
        "id": "68b4eb73-c32a-4147-86cf-45f3139edd0c"
      },
      "outputs": [],
      "source": [
        "A = []\n",
        "B = []\n",
        "S = []\n",
        "C = []\n",
        "L = []\n",
        "\n",
        "for i in range(0,9):\n",
        "    A.append(results[i][2][0][0]) # base item\n",
        "    B.append(results[i][2][0][1]) # add item\n",
        "    S.append(results[i][1]) # support\n",
        "    C.append(results[i][2][0][2]) # confidence\n",
        "    L.append(results[i][2][0][3]) # lift\n",
        ""
      ]
    },
    {
      "cell_type": "markdown",
      "id": "1117f402-a320-491a-b112-ab6fabcb1889",
      "metadata": {
        "id": "1117f402-a320-491a-b112-ab6fabcb1889"
      },
      "source": [
        "#### converting list into dataframe"
      ]
    },
    {
      "cell_type": "code",
      "execution_count": null,
      "id": "1364dc02-d1c9-420e-a384-2235b089cdc5",
      "metadata": {
        "id": "1364dc02-d1c9-420e-a384-2235b089cdc5",
        "outputId": "c7dd321c-c0c1-4143-d20b-8148dfe7f6ba"
      },
      "outputs": [
        {
          "data": {
            "text/html": [
              "<div>\n",
              "<style scoped>\n",
              "    .dataframe tbody tr th:only-of-type {\n",
              "        vertical-align: middle;\n",
              "    }\n",
              "\n",
              "    .dataframe tbody tr th {\n",
              "        vertical-align: top;\n",
              "    }\n",
              "\n",
              "    .dataframe thead th {\n",
              "        text-align: right;\n",
              "    }\n",
              "</style>\n",
              "<table border=\"1\" class=\"dataframe\">\n",
              "  <thead>\n",
              "    <tr style=\"text-align: right;\">\n",
              "      <th></th>\n",
              "      <th>Baseitem</th>\n",
              "      <th>Additem</th>\n",
              "      <th>Support</th>\n",
              "      <th>confidence</th>\n",
              "      <th>Lift</th>\n",
              "    </tr>\n",
              "  </thead>\n",
              "  <tbody>\n",
              "    <tr>\n",
              "      <th>0</th>\n",
              "      <td>light cream</td>\n",
              "      <td>chicken</td>\n",
              "      <td>0.004533</td>\n",
              "      <td>0.290598</td>\n",
              "      <td>4.843951</td>\n",
              "    </tr>\n",
              "    <tr>\n",
              "      <th>1</th>\n",
              "      <td>mushroom cream sauce</td>\n",
              "      <td>escalope</td>\n",
              "      <td>0.005733</td>\n",
              "      <td>0.300699</td>\n",
              "      <td>3.790833</td>\n",
              "    </tr>\n",
              "    <tr>\n",
              "      <th>2</th>\n",
              "      <td>pasta</td>\n",
              "      <td>escalope</td>\n",
              "      <td>0.005866</td>\n",
              "      <td>0.372881</td>\n",
              "      <td>4.700812</td>\n",
              "    </tr>\n",
              "    <tr>\n",
              "      <th>3</th>\n",
              "      <td>fromage blanc</td>\n",
              "      <td>honey</td>\n",
              "      <td>0.003333</td>\n",
              "      <td>0.245098</td>\n",
              "      <td>5.164271</td>\n",
              "    </tr>\n",
              "    <tr>\n",
              "      <th>4</th>\n",
              "      <td>herb &amp; pepper</td>\n",
              "      <td>ground beef</td>\n",
              "      <td>0.015998</td>\n",
              "      <td>0.323450</td>\n",
              "      <td>3.291994</td>\n",
              "    </tr>\n",
              "    <tr>\n",
              "      <th>5</th>\n",
              "      <td>tomato sauce</td>\n",
              "      <td>ground beef</td>\n",
              "      <td>0.005333</td>\n",
              "      <td>0.377358</td>\n",
              "      <td>3.840659</td>\n",
              "    </tr>\n",
              "    <tr>\n",
              "      <th>6</th>\n",
              "      <td>light cream</td>\n",
              "      <td>olive oil</td>\n",
              "      <td>0.003200</td>\n",
              "      <td>0.205128</td>\n",
              "      <td>3.114710</td>\n",
              "    </tr>\n",
              "    <tr>\n",
              "      <th>7</th>\n",
              "      <td>whole wheat pasta</td>\n",
              "      <td>olive oil</td>\n",
              "      <td>0.007999</td>\n",
              "      <td>0.271493</td>\n",
              "      <td>4.122410</td>\n",
              "    </tr>\n",
              "    <tr>\n",
              "      <th>8</th>\n",
              "      <td>pasta</td>\n",
              "      <td>shrimp</td>\n",
              "      <td>0.005066</td>\n",
              "      <td>0.322034</td>\n",
              "      <td>4.506672</td>\n",
              "    </tr>\n",
              "  </tbody>\n",
              "</table>\n",
              "</div>"
            ],
            "text/plain": [
              "               Baseitem      Additem   Support  confidence      Lift\n",
              "0           light cream      chicken  0.004533    0.290598  4.843951\n",
              "1  mushroom cream sauce     escalope  0.005733    0.300699  3.790833\n",
              "2                 pasta     escalope  0.005866    0.372881  4.700812\n",
              "3         fromage blanc        honey  0.003333    0.245098  5.164271\n",
              "4         herb & pepper  ground beef  0.015998    0.323450  3.291994\n",
              "5          tomato sauce  ground beef  0.005333    0.377358  3.840659\n",
              "6           light cream    olive oil  0.003200    0.205128  3.114710\n",
              "7     whole wheat pasta    olive oil  0.007999    0.271493  4.122410\n",
              "8                 pasta       shrimp  0.005066    0.322034  4.506672"
            ]
          },
          "execution_count": 15,
          "metadata": {},
          "output_type": "execute_result"
        }
      ],
      "source": [
        "A = pd.DataFrame(A)\n",
        "B = pd.DataFrame(B)\n",
        "S = pd.DataFrame(S)\n",
        "C = pd.DataFrame(C)\n",
        "L = pd.DataFrame(L)\n",
        "\n",
        "data = pd.concat([A,B,S,C,L],axis=1)\n",
        "data.columns = ['Baseitem','Additem','Support','confidence','Lift']\n",
        "data"
      ]
    },
    {
      "cell_type": "markdown",
      "id": "bf667467-d0dd-4e87-851c-ea90f4ebccc0",
      "metadata": {
        "id": "bf667467-d0dd-4e87-851c-ea90f4ebccc0"
      },
      "source": [
        "# Analysis and Interpretation\n",
        "- •   \tAnalyse the generated rules to identify interesting patterns and relationships between the produc-\n",
        "-   \n",
        "•\tInterpret the results and provide insights into customer purchasing behaviour based on the discovered rules.\n"
      ]
    },
    {
      "cell_type": "markdown",
      "id": "cd5f3152-3ed4-4435-bea1-fe97266201e5",
      "metadata": {
        "id": "cd5f3152-3ed4-4435-bea1-fe97266201e5"
      },
      "source": [
        "Here’s a brief interpretation of each association rule in your table:\n",
        "\n",
        "1. **light cream → chicken**:\n",
        "   - Support: 0.004533 (0.45% of transactions include both items)\n",
        "   - Confidence: 29.06% (When light cream is bought, there's a 29.06% chance chicken is bought too)\n",
        "   - Lift: 4.84 (The likelihood of buying chicken with light cream is 4.84 times higher than chance)\n",
        "\n",
        "2. **mushroom cream sauce → escalope**:\n",
        "   - Support: 0.005733 (0.57% of transactions include both items)\n",
        "   - Confidence: 30.07% (When mushroom cream sauce is bought, there's a 30.07% chance escalope is bought too)\n",
        "   - Lift: 3.79 (The likelihood of buying escalope with mushroom cream sauce is 3.79 times higher than chance)\n",
        "\n",
        "3. **pasta → escalope**:\n",
        "   - Support: 0.005866 (0.59% of transactions include both items)\n",
        "   - Confidence: 37.29% (When pasta is bought, there's a 37.29% chance escalope is bought too)\n",
        "   - Lift: 4.70 (The likelihood of buying escalope with pasta is 4.70 times higher than chance)\n",
        "\n",
        "4. **fromage blanc → honey**:\n",
        "   - Support: 0.003333 (0.33% of transactions include both items)\n",
        "   - Confidence: 24.51% (When fromage blanc is bought, there's a 24.51% chance honey is bought too)\n",
        "   - Lift: 5.16 (The likelihood of buying honey with fromage blanc is 5.16 times higher than chance)\n",
        "\n",
        "5. **herb & pepper → ground beef**:\n",
        "   - Support: 0.015998 (1.60% of transactions include both items)\n",
        "   - Confidence: 32.35% (When herb & pepper is bought, there's a 32.35% chance ground beef is bought too)\n",
        "   - Lift: 3.29 (The likelihood of buying ground beef with herb & pepper is 3.29 times higher than chance)\n",
        "\n",
        "6. **tomato sauce → ground beef**:\n",
        "   - Support: 0.005333 (0.53% of transactions include both items)\n",
        "   - Confidence: 37.74% (When tomato sauce is bought, there's a 37.74% chance ground beef is bought too)\n",
        "   - Lift: 3.84 (The likelihood of buying ground beef with tomato sauce is 3.84 times higher than chance)\n",
        "\n",
        "7. **light cream → olive oil**:\n",
        "   - Support: 0.003200 (0.32% of transactions include both items)\n",
        "   - Confidence: 20.51% (When light cream is bought, there's a 20.51% chance olive oil is bought too)\n",
        "   - Lift: 3.11 (The likelihood of buying olive oil with light cream is 3.11 times higher than chance)\n",
        "\n",
        "8. **whole wheat pasta → olive oil**:\n",
        "   - Support: 0.007999 (0.80% of transactions include both items)\n",
        "   - Confidence: 27.15% (When whole wheat pasta is bought, there's a 27.15% chance olive oil is bought too)\n",
        "   - Lift: 4.12 (The likelihood of buying olive oil with whole wheat pasta is 4.12 times higher than chance)\n",
        "\n",
        "9. **pasta → shrimp**:\n",
        "   - Support: 0.005066 (0.51% of transactions include both items)\n",
        "   - Confidence: 32.20% (When pasta is bought, there's a 32.20% chance shrimp is bought too)\n",
        "   - Lift: 4.51 (The likelihood of buying shrimp with pasta is 4.51 times higher than chance)\n",
        "\n",
        "These interpretations highlight the strength and likelihood of associations between the base items and the add-on items in your dataset"
      ]
    },
    {
      "cell_type": "code",
      "execution_count": null,
      "id": "f1c0d4ba-6323-477d-9530-4363244bbea7",
      "metadata": {
        "id": "f1c0d4ba-6323-477d-9530-4363244bbea7"
      },
      "outputs": [],
      "source": [
        "- **this combination have highest support means that this pair appears together in approximately 1.60% of all transactions,) herb & pepper\tground beef\t0.015998**\n",
        "-  **the customers who came to purchase tomato sauce, 37 % chance is there that they will also buy  ground beef.**\n",
        "-  **fromage blanc\tis lifting honey  5.164271 times more**"
      ]
    },
    {
      "cell_type": "raw",
      "id": "737162df-7a22-42cd-86d3-50e405b89f7b",
      "metadata": {
        "id": "737162df-7a22-42cd-86d3-50e405b89f7b"
      },
      "source": [
        "-  1.\tWhat is lift and why is it important in Association rules?\n",
        "ans:- how much product P1 is lifting sales of product  P2. Lift helps identify strong associations between items. A lift greater than 1 indicates a positive association, meaning items A and B occur together more frequently than by chance.\n",
        "\n",
        "2.\tWhat is support and Confidence. How do you calculate them?  Total probability of MOST buyed Product\n",
        "ans:-  with support we will  find out the probability , of which combination of products is mostly purchased by customers .\n",
        "and with confidence we will find out if product p1 is purchaesd then what is the prob of  purchasing product p2 .\n",
        "Support: With support, we find out the probability of which combination of products is most frequently purchased by customers.\n",
        "\n",
        "Confidence: With confidence, we find out the probability of purchasing product P2 given that product P1 is purchased.\n",
        "\n",
        "3.\tWhat are some limitations or challenges of Association rules mining?\n",
        "ans:-Support and Confidence Limits:\n",
        "\n",
        "Setting thresholds for support and confidence can be tricky. Too high, and you may miss interesting rules; too low, and you may get too many irrelevant rules.\n"
      ]
    }
  ],
  "metadata": {
    "kernelspec": {
      "display_name": "Python 3 (ipykernel)",
      "language": "python",
      "name": "python3"
    },
    "language_info": {
      "codemirror_mode": {
        "name": "ipython",
        "version": 3
      },
      "file_extension": ".py",
      "mimetype": "text/x-python",
      "name": "python",
      "nbconvert_exporter": "python",
      "pygments_lexer": "ipython3",
      "version": "3.12.4"
    },
    "colab": {
      "provenance": [],
      "include_colab_link": true
    }
  },
  "nbformat": 4,
  "nbformat_minor": 5
}